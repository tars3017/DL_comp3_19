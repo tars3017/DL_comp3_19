{
 "cells": [
  {
   "cell_type": "code",
   "execution_count": 1,
   "metadata": {},
   "outputs": [
    {
     "name": "stderr",
     "output_type": "stream",
     "text": [
      "/usr/lib/python3/dist-packages/requests/__init__.py:89: RequestsDependencyWarning: urllib3 (2.2.3) or chardet (3.0.4) doesn't match a supported version!\n",
      "  warnings.warn(\"urllib3 ({}) or chardet ({}) doesn't match a supported \"\n",
      "/usr/local/lib/python3.8/dist-packages/tensorflow_addons/utils/tfa_eol_msg.py:23: UserWarning: \n",
      "\n",
      "TensorFlow Addons (TFA) has ended development and introduction of new features.\n",
      "TFA has entered a minimal maintenance and release mode until a planned end of life in May 2024.\n",
      "Please modify downstream libraries to take dependencies from other repositories in our TensorFlow community (e.g. Keras, Keras-CV, and Keras-NLP). \n",
      "\n",
      "For more information see: https://github.com/tensorflow/addons/issues/2807 \n",
      "\n",
      "  warnings.warn(\n",
      "/usr/local/lib/python3.8/dist-packages/tensorflow_addons/utils/ensure_tf_install.py:53: UserWarning: Tensorflow Addons supports using Python ops for all Tensorflow versions above or equal to 2.11.0 and strictly below 2.14.0 (nightly versions are not supported). \n",
      " The versions of TensorFlow you are currently using is 2.9.1 and is not supported. \n",
      "Some things might work, some things might not.\n",
      "If you were to encounter a bug, do not file an issue.\n",
      "If you want to make sure you're using a tested and supported configuration, either change the TensorFlow version or the TensorFlow Addons's version. \n",
      "You can find the compatibility matrix in TensorFlow Addon's readme:\n",
      "https://github.com/tensorflow/addons\n",
      "  warnings.warn(\n"
     ]
    }
   ],
   "source": [
    "from __future__ import absolute_import, division, print_function, unicode_literals\n",
    "import tensorflow as tf\n",
    "from tensorflow.keras import layers\n",
    "import tensorflow_addons as tfa\n",
    "import os\n",
    "os.environ['TF_CPP_MIN_LOG_LEVEL'] = '2' \n",
    "import string\n",
    "import matplotlib.pyplot as plt\n",
    "import numpy as np\n",
    "import pandas as pd\n",
    "import PIL\n",
    "import random\n",
    "import time\n",
    "from pathlib import Path\n",
    "\n",
    "import re\n",
    "from IPython import display"
   ]
  },
  {
   "cell_type": "code",
   "execution_count": 2,
   "metadata": {},
   "outputs": [
    {
     "name": "stdout",
     "output_type": "stream",
     "text": [
      "1 Physical GPUs, 1 Logical GPUs\n"
     ]
    }
   ],
   "source": [
    "gpus = tf.config.experimental.list_physical_devices('GPU')\n",
    "if gpus:\n",
    "    try:\n",
    "        # Restrict TensorFlow to only use the first GPU\n",
    "        tf.config.experimental.set_visible_devices(gpus[0], 'GPU')\n",
    "\n",
    "        # Currently, memory growth needs to be the same across GPUs\n",
    "        for gpu in gpus:\n",
    "            tf.config.experimental.set_memory_growth(gpu, True)\n",
    "        logical_gpus = tf.config.experimental.list_logical_devices('GPU')\n",
    "        print(len(gpus), \"Physical GPUs,\", len(logical_gpus), \"Logical GPUs\")\n",
    "    except RuntimeError as e:\n",
    "        # Memory growth must be set before GPUs have been initialized\n",
    "        print(e)"
   ]
  },
  {
   "cell_type": "markdown",
   "metadata": {},
   "source": [
    "## Preprocess Text"
   ]
  },
  {
   "cell_type": "code",
   "execution_count": 3,
   "metadata": {},
   "outputs": [
    {
     "name": "stdout",
     "output_type": "stream",
     "text": [
      "there are 5427 vocabularies in total\n",
      "Word to id mapping, for example: flower -> 1\n",
      "Id to word mapping, for example: 1 -> flower\n",
      "Tokens: <PAD>: 5427; <RARE>: 5428\n"
     ]
    }
   ],
   "source": [
    "dictionary_path = './dictionary'\n",
    "vocab = np.load(dictionary_path + '/vocab.npy')\n",
    "print('there are {} vocabularies in total'.format(len(vocab)))\n",
    "\n",
    "word2Id_dict = dict(np.load(dictionary_path + '/word2Id.npy'))\n",
    "id2word_dict = dict(np.load(dictionary_path + '/id2Word.npy'))\n",
    "print('Word to id mapping, for example: %s -> %s' % ('flower', word2Id_dict['flower']))\n",
    "print('Id to word mapping, for example: %s -> %s' % ('1', id2word_dict['1']))\n",
    "print('Tokens: <PAD>: %s; <RARE>: %s' % (word2Id_dict['<PAD>'], word2Id_dict['<RARE>']))"
   ]
  },
  {
   "cell_type": "code",
   "execution_count": 4,
   "metadata": {},
   "outputs": [
    {
     "name": "stdout",
     "output_type": "stream",
     "text": [
      "the flower shown has yellow anther red pistil and bright red petals.\n",
      "['9', '1', '82', '5', '11', '70', '20', '31', '3', '29', '20', '2', '5427', '5427', '5427', '5427', '5427', '5427', '5427', '5427']\n"
     ]
    }
   ],
   "source": [
    "def sent2IdList(line, MAX_SEQ_LENGTH=20):\n",
    "    MAX_SEQ_LIMIT = MAX_SEQ_LENGTH\n",
    "    padding = 0\n",
    "    \n",
    "    # data preprocessing, remove all puntuation in the texts\n",
    "    prep_line = re.sub('[%s]' % re.escape(string.punctuation), ' ', line.rstrip())\n",
    "    prep_line = prep_line.replace('-', ' ')\n",
    "    prep_line = prep_line.replace('-', ' ')\n",
    "    prep_line = prep_line.replace('  ', ' ')\n",
    "    prep_line = prep_line.replace('.', '')\n",
    "    tokens = prep_line.split(' ')\n",
    "    tokens = [\n",
    "        tokens[i] for i in range(len(tokens))\n",
    "        if tokens[i] != ' ' and tokens[i] != ''\n",
    "    ]\n",
    "    l = len(tokens)\n",
    "    padding = MAX_SEQ_LIMIT - l\n",
    "    \n",
    "    # make sure length of each text is equal to MAX_SEQ_LENGTH, and replace the less common word with <RARE> token\n",
    "    for i in range(padding):\n",
    "        tokens.append('<PAD>')\n",
    "    line = [\n",
    "        word2Id_dict[tokens[k]]\n",
    "        if tokens[k] in word2Id_dict else word2Id_dict['<RARE>']\n",
    "        for k in range(len(tokens))\n",
    "    ]\n",
    "\n",
    "    return line\n",
    "\n",
    "text = \"the flower shown has yellow anther red pistil and bright red petals.\"\n",
    "print(text)\n",
    "print(sent2IdList(text))"
   ]
  },
  {
   "cell_type": "markdown",
   "metadata": {},
   "source": [
    "## Dataset"
   ]
  },
  {
   "cell_type": "code",
   "execution_count": 5,
   "metadata": {},
   "outputs": [
    {
     "name": "stdout",
     "output_type": "stream",
     "text": [
      "There are 7370 image in training data\n"
     ]
    }
   ],
   "source": [
    "data_path = './dataset'\n",
    "df = pd.read_pickle(data_path + '/text2ImgData.pkl')\n",
    "clip_text_features = pd.read_pickle('./clip_text_features.pkl')\n",
    "clip_text_features = clip_text_features.to_dict(orient='index')\n",
    "num_training_sample = len(df)\n",
    "n_images_train = num_training_sample\n",
    "print('There are %d image in training data' % (n_images_train))"
   ]
  },
  {
   "cell_type": "code",
   "execution_count": 6,
   "metadata": {},
   "outputs": [
    {
     "name": "stdout",
     "output_type": "stream",
     "text": [
      "7370\n",
      "./102flowers/image_06734.jpg\n",
      "512\n",
      "./102flowers/image_00629.jpg\n",
      "./102flowers/image_00919.jpg\n",
      "./102flowers/image_00278.jpg\n",
      "(3, 512)\n"
     ]
    }
   ],
   "source": [
    "print(len(clip_text_features))\n",
    "for key, value in clip_text_features.items():\n",
    "    print(key)\n",
    "    print(len(value[0]))\n",
    "    break\n",
    "\n",
    "random_pairs = random.sample(list(clip_text_features.items()), 3)\n",
    "# print(random_pairs)\n",
    "test_use_caption = []\n",
    "for key, value in random_pairs:\n",
    "    print(key)\n",
    "    # print(value[0])\n",
    "    test_use_caption.append(value[0])\n",
    "test_use_caption = np.array(test_use_caption)\n",
    "test_use_caption = tf.convert_to_tensor(test_use_caption, dtype=tf.float32)\n",
    "print(test_use_caption.shape)"
   ]
  },
  {
   "cell_type": "code",
   "execution_count": 7,
   "metadata": {},
   "outputs": [
    {
     "data": {
      "text/html": [
       "<div>\n",
       "<style scoped>\n",
       "    .dataframe tbody tr th:only-of-type {\n",
       "        vertical-align: middle;\n",
       "    }\n",
       "\n",
       "    .dataframe tbody tr th {\n",
       "        vertical-align: top;\n",
       "    }\n",
       "\n",
       "    .dataframe thead th {\n",
       "        text-align: right;\n",
       "    }\n",
       "</style>\n",
       "<table border=\"1\" class=\"dataframe\">\n",
       "  <thead>\n",
       "    <tr style=\"text-align: right;\">\n",
       "      <th></th>\n",
       "      <th>Captions</th>\n",
       "      <th>ImagePath</th>\n",
       "    </tr>\n",
       "    <tr>\n",
       "      <th>ID</th>\n",
       "      <th></th>\n",
       "      <th></th>\n",
       "    </tr>\n",
       "  </thead>\n",
       "  <tbody>\n",
       "    <tr>\n",
       "      <th>6734</th>\n",
       "      <td>[[9, 2, 17, 9, 1, 6, 14, 13, 18, 3, 41, 8, 11,...</td>\n",
       "      <td>./102flowers/image_06734.jpg</td>\n",
       "    </tr>\n",
       "    <tr>\n",
       "      <th>6736</th>\n",
       "      <td>[[4, 1, 5, 12, 2, 3, 11, 31, 28, 68, 106, 132,...</td>\n",
       "      <td>./102flowers/image_06736.jpg</td>\n",
       "    </tr>\n",
       "    <tr>\n",
       "      <th>6737</th>\n",
       "      <td>[[9, 2, 27, 4, 1, 6, 14, 7, 12, 19, 5427, 5427...</td>\n",
       "      <td>./102flowers/image_06737.jpg</td>\n",
       "    </tr>\n",
       "    <tr>\n",
       "      <th>6738</th>\n",
       "      <td>[[9, 1, 5, 8, 54, 16, 38, 7, 12, 116, 325, 3, ...</td>\n",
       "      <td>./102flowers/image_06738.jpg</td>\n",
       "    </tr>\n",
       "    <tr>\n",
       "      <th>6739</th>\n",
       "      <td>[[4, 12, 1, 5, 29, 11, 19, 7, 26, 70, 5427, 54...</td>\n",
       "      <td>./102flowers/image_06739.jpg</td>\n",
       "    </tr>\n",
       "  </tbody>\n",
       "</table>\n",
       "</div>"
      ],
      "text/plain": [
       "                                               Captions  \\\n",
       "ID                                                        \n",
       "6734  [[9, 2, 17, 9, 1, 6, 14, 13, 18, 3, 41, 8, 11,...   \n",
       "6736  [[4, 1, 5, 12, 2, 3, 11, 31, 28, 68, 106, 132,...   \n",
       "6737  [[9, 2, 27, 4, 1, 6, 14, 7, 12, 19, 5427, 5427...   \n",
       "6738  [[9, 1, 5, 8, 54, 16, 38, 7, 12, 116, 325, 3, ...   \n",
       "6739  [[4, 12, 1, 5, 29, 11, 19, 7, 26, 70, 5427, 54...   \n",
       "\n",
       "                         ImagePath  \n",
       "ID                                  \n",
       "6734  ./102flowers/image_06734.jpg  \n",
       "6736  ./102flowers/image_06736.jpg  \n",
       "6737  ./102flowers/image_06737.jpg  \n",
       "6738  ./102flowers/image_06738.jpg  \n",
       "6739  ./102flowers/image_06739.jpg  "
      ]
     },
     "execution_count": 7,
     "metadata": {},
     "output_type": "execute_result"
    }
   ],
   "source": [
    "df.head(5)"
   ]
  },
  {
   "cell_type": "markdown",
   "metadata": {},
   "source": [
    "### Create Dataset"
   ]
  },
  {
   "cell_type": "code",
   "execution_count": 8,
   "metadata": {},
   "outputs": [],
   "source": [
    "# in this competition, you have to generate image in size 64x64x3\n",
    "IMAGE_HEIGHT = 64\n",
    "IMAGE_WIDTH = 64\n",
    "IMAGE_CHANNEL = 3\n",
    "\n",
    "def training_data_generator(caption, image_path):\n",
    "    # load in the image according to image path\n",
    "    img = tf.io.read_file(image_path)\n",
    "    img = tf.image.decode_image(img, channels=3)\n",
    "    img = tf.image.convert_image_dtype(img, tf.float32)\n",
    "\n",
    "    # img = tf.image.random_flip_left_right(img)\n",
    "    img.set_shape([None, None, 3])\n",
    "    # img = tf.image.random_crop(img, size=[500, 500, 3])\n",
    "    # img = tf.keras.layers.RandomRotation(0.2)(img)\n",
    "    # img = tf.keras.layers.RandomZoom(0.2)(img)\n",
    "\n",
    "    img = tf.image.resize(img, size=[IMAGE_HEIGHT, IMAGE_WIDTH])\n",
    "    img.set_shape([IMAGE_HEIGHT, IMAGE_WIDTH, IMAGE_CHANNEL])\n",
    "\n",
    "    # caption = tf.cast(caption, tf.int32)\n",
    "    caption = tf.convert_to_tensor(caption)\n",
    "    # print(caption.shape)\n",
    "\n",
    "    return img, caption\n",
    "\n",
    "def dataset_generator(filenames, batch_size, data_generator):\n",
    "    image_path = []\n",
    "    caption = []\n",
    "    for key, value in clip_text_features.items():\n",
    "        embedding = list(value.values())\n",
    "        max_len = len(embedding)\n",
    "        random_choice = random.sample(range(0, max_len), 6)\n",
    "        for i in random_choice:\n",
    "            if embedding[i] is None:\n",
    "                continue\n",
    "            caption.append(embedding[i])\n",
    "            image_path.append(key)\n",
    "    caption = np.asarray(caption)\n",
    "    # print(caption.shape)\n",
    "    image_path = np.asarray(image_path)\n",
    "\n",
    "    \n",
    "    # assume that each row of `features` corresponds to the same row as `labels`.\n",
    "    assert caption.shape[0] == image_path.shape[0]\n",
    "\n",
    "    train_dataset = tf.data.Dataset.from_tensor_slices((caption, image_path))\n",
    "    train_dataset = train_dataset.map(data_generator, num_parallel_calls=tf.data.experimental.AUTOTUNE)\n",
    "    train_dataset = train_dataset.shuffle(1000).batch(batch_size, drop_remainder=True)\n",
    "    train_dataset = train_dataset.prefetch(buffer_size=tf.data.experimental.AUTOTUNE)\n",
    "    return train_dataset"
   ]
  },
  {
   "cell_type": "code",
   "execution_count": 9,
   "metadata": {},
   "outputs": [
    {
     "data": {
      "image/png": "[encoded data removed]",
      "text/plain": [
       "<Figure size 640x480 with 1 Axes>"
      ]
     },
     "metadata": {},
     "output_type": "display_data"
    },
    {
     "data": {
      "image/png": "[encoded data removed]",
      "text/plain": [
       "<Figure size 640x480 with 1 Axes>"
      ]
     },
     "metadata": {},
     "output_type": "display_data"
    },
    {
     "data": {
      "image/png": "[encoded data removed]",
      "text/plain": [
       "<Figure size 640x480 with 1 Axes>"
      ]
     },
     "metadata": {},
     "output_type": "display_data"
    },
    {
     "name": "stdout",
     "output_type": "stream",
     "text": [
      "tf.Tensor(1.0, shape=(), dtype=float32) tf.Tensor(0.0, shape=(), dtype=float32)\n"
     ]
    }
   ],
   "source": [
    "BATCH_SIZE = 64\n",
    "dataset = dataset_generator(data_path + '/text2ImgData.pkl', BATCH_SIZE, training_data_generator)\n",
    "\n",
    "for img, caption in dataset.take(1):\n",
    "    plt.imshow(img[0])\n",
    "    plt.show()\n",
    "    plt.imshow(img[1])\n",
    "    plt.show()\n",
    "    plt.imshow(img[2])\n",
    "    plt.show()\n",
    "    print(tf.reduce_max(img[0]), tf.reduce_min(img[0]))"
   ]
  },
  {
   "cell_type": "markdown",
   "metadata": {},
   "source": [
    "## Conditional GAN"
   ]
  },
  {
   "cell_type": "code",
   "execution_count": null,
   "metadata": {},
   "outputs": [],
   "source": []
  },
  {
   "cell_type": "markdown",
   "metadata": {},
   "source": [
    "### Text Encoder"
   ]
  },
  {
   "cell_type": "code",
   "execution_count": 10,
   "metadata": {},
   "outputs": [],
   "source": [
    "class TextEncoder(tf.keras.Model):\n",
    "    \"\"\"\n",
    "    Encode text (a caption) into hidden representation\n",
    "    input: text, which is a list of ids\n",
    "    output: embedding, or hidden representation of input text in dimension of RNN_HIDDEN_SIZE\n",
    "    \"\"\"\n",
    "    def __init__(self, hparas):\n",
    "        super(TextEncoder, self).__init__()\n",
    "        self.hparas = hparas\n",
    "        self.batch_size = self.hparas['BATCH_SIZE']\n",
    "        \n",
    "        # embedding with tensorflow API\n",
    "        self.embedding = layers.Embedding(self.hparas['VOCAB_SIZE'], self.hparas['EMBED_DIM'])\n",
    "        # RNN, here we use GRU cell, another common RNN cell similar to LSTM\n",
    "        self.gru = layers.GRU(self.hparas['RNN_HIDDEN_SIZE'],\n",
    "                              return_sequences=True,\n",
    "                              return_state=True,\n",
    "                              recurrent_initializer='glorot_uniform')\n",
    "    \n",
    "    def call(self, text, hidden):\n",
    "        text = self.embedding(text)\n",
    "        # output: (batch_size, sequence_length, rnn_hidden_size)\n",
    "        output, state = self.gru(text, initial_state = hidden)\n",
    "        # we only need to output the last hidden state of RNN\n",
    "        return output[:, -1, :], state\n",
    "    \n",
    "    def initialize_hidden_state(self):\n",
    "        return tf.zeros((self.hparas['BATCH_SIZE'], self.hparas['RNN_HIDDEN_SIZE']))"
   ]
  },
  {
   "cell_type": "code",
   "execution_count": 11,
   "metadata": {},
   "outputs": [],
   "source": [
    "# from transformers import TFBertModel, BertTokenizer\n",
    "\n",
    "# # Need to modify the input as raw text?\n",
    "# class TextEncoder(tf.keras.Model):\n",
    "#     def __init__(self, hparas):\n",
    "#         super(TextEncoder, self).__init__()\n",
    "#         self.hparas = hparas\n",
    "        \n",
    "#         # Load pre-trained BERT model and tokenizer\n",
    "#         self.embedding = tf.keras.layers.Embedding(\n",
    "#             input_dim = self.hparas['VOCAB_SIZE'],\n",
    "#             output_dim = 768\n",
    "#         )\n",
    "#         self.bert_model = TFBertModel.from_pretrained('bert-base-uncased')\n",
    "#         self.bert_model.trainable = False\n",
    "        \n",
    "#         # Projection layer to match hidden size\n",
    "#         self.projection = tf.keras.layers.Dense(\n",
    "#             self.hparas.get('RNN_HIDDEN_SIZE', 768)\n",
    "#         )\n",
    "    \n",
    "#     def call(self, text, hidden=None):\n",
    "#         # Tokenize and encode text\n",
    "#         attention_mask = tf.cast(text != word2Id_dict['<PAD>'], tf.int32)\n",
    "#         embeddings = self.embedding(text)\n",
    "#         outputs = self.bert_model(\n",
    "#             input_ids=text,\n",
    "#             attention_mask=attention_mask\n",
    "#         )\n",
    "#         pooled = outputs.pooler_output\n",
    "#         final_embedding = self.projection(pooled)\n",
    "\n",
    "#         return final_embedding, final_embedding\n",
    "\n",
    "    \n",
    "#     def initialize_hidden_state(self):\n",
    "#         return tf.zeros((self.hparas['BATCH_SIZE'], self.hparas.get('RNN_HIDDEN_SIZE', 768)))"
   ]
  },
  {
   "cell_type": "markdown",
   "metadata": {},
   "source": [
    "### Generator"
   ]
  },
  {
   "cell_type": "code",
   "execution_count": 12,
   "metadata": {},
   "outputs": [],
   "source": [
    "class Generator(tf.keras.Model):\n",
    "    \"\"\"\n",
    "    Generate fake image based on given text(hidden representation) and noise z\n",
    "    input: text and noise\n",
    "    output: fake image with size 64*64*3\n",
    "    \"\"\"\n",
    "    def __init__(self, hparas):\n",
    "        super(Generator, self).__init__()\n",
    "        self.hparas = hparas\n",
    "        # self.flatten = tf.keras.layers.Flatten()\n",
    "        # self.d1 = tf.keras.layers.Dense(self.hparas['DENSE_DIM'])\n",
    "        # self.d2 = tf.keras.layers.Dense(64*64*3)\n",
    "\n",
    "        # Dense layer for text embedding\n",
    "        # self.text_flatten = tf.keras.layers.Flatten()\n",
    "        self.text_dense1 = tf.keras.layers.Dense(self.hparas['DENSE_DIM'])\n",
    "        self.text_dense2 = tf.keras.layers.Dense(128 * 8 * 4 * 4)\n",
    "\n",
    "        # Convolution layers for image generation\n",
    "        self.deconv1 = tf.keras.layers.Conv2DTranspose(128 * 4, (4, 4), strides=(2, 2), padding='same', use_bias=False)\n",
    "        self.deconv2 = tf.keras.layers.Conv2DTranspose(128 * 2, (4, 4), strides=(2, 2), padding='same', use_bias=False)\n",
    "        self.deconv3 = tf.keras.layers.Conv2DTranspose(128 * 1, (4, 4), strides=(2, 2), padding='same', use_bias=False)\n",
    "        self.final_conv = tf.keras.layers.Conv2DTranspose(3, (4, 4), strides=(2, 2), padding='same', use_bias=False)\n",
    "\n",
    "        # Batch normalization\n",
    "        self.bn1 = tf.keras.layers.BatchNormalization()\n",
    "        self.bn2 = tf.keras.layers.BatchNormalization()\n",
    "        self.bn3 = tf.keras.layers.BatchNormalization()\n",
    "        self.bn_text = tf.keras.layers.BatchNormalization()\n",
    "\n",
    "        # Dropout\n",
    "        self.dropout = tf.keras.layers.Dropout(0.5)\n",
    "\n",
    "        \n",
    "    def call(self, text, noise_z, training=True):\n",
    "        # text = self.flatten(text)\n",
    "        # text = self.d1(text)\n",
    "        # text = tf.nn.leaky_relu(text)\n",
    "        \n",
    "        # # concatenate input text and random noise\n",
    "        # text_concat = tf.concat([noise_z, text], axis=1)\n",
    "        # text_concat = self.d2(text_concat)\n",
    "        \n",
    "        # logits = tf.reshape(text_concat, [-1, 64, 64, 3])\n",
    "        # output = tf.nn.tanh(logits)\n",
    "\n",
    "        # text = self.text_flatten(text)\n",
    "        text = self.text_dense1(text)\n",
    "        text = self.bn_text(text, training=training)\n",
    "        text = tf.nn.relu(text)\n",
    "\n",
    "        # concatenate input text and random noise\n",
    "        text_concat = tf.concat([noise_z, text], axis=1)\n",
    "        text_concat = self.text_dense2(text_concat)\n",
    "\n",
    "        # Reshape and generate image\n",
    "        x = tf.reshape(text_concat, [-1, 4, 4, 128 * 8])\n",
    "\n",
    "        # Deconvolution layers\n",
    "        x = self.deconv1(x)\n",
    "        x = self.bn1(x, training=training)\n",
    "        # x = self.dropout(x, training=True)\n",
    "        x = tf.nn.relu(x)\n",
    "\n",
    "        x = self.deconv2(x)\n",
    "        x = self.bn2(x, training=training)\n",
    "        # x = self.dropout(x, training=True)\n",
    "        x = tf.nn.relu(x)\n",
    "\n",
    "        x = self.deconv3(x)\n",
    "        x = self.bn3(x, training=training)\n",
    "        # x = self.dropout(x, training=True)\n",
    "        x = tf.nn.relu(x)\n",
    "\n",
    "        # Final layer with tanh activation\n",
    "        logits = self.final_conv(x)\n",
    "        output = tf.nn.tanh(logits)\n",
    "        \n",
    "        return output"
   ]
  },
  {
   "cell_type": "markdown",
   "metadata": {},
   "source": [
    "### Discriminator"
   ]
  },
  {
   "cell_type": "code",
   "execution_count": 13,
   "metadata": {},
   "outputs": [],
   "source": [
    "class Discriminator(tf.keras.Model):\n",
    "    \"\"\"\n",
    "    Differentiate the real and fake image\n",
    "    input: image and corresponding text\n",
    "    output: labels, the real image should be 1, while the fake should be 0\n",
    "    \"\"\"\n",
    "    def __init__(self, hparas):\n",
    "        super(Discriminator, self).__init__()\n",
    "        self.hparas = hparas\n",
    "        # self.flatten = tf.keras.layers.Flatten()\n",
    "        # self.d_text = tf.keras.layers.Dense(self.hparas['DENSE_DIM'])\n",
    "        # self.d_img = tf.keras.layers.Dense(self.hparas['DENSE_DIM'])\n",
    "        # self.d = tf.keras.layers.Dense(1)\n",
    "\n",
    "        # Convolution layers\n",
    "        self.conv1 = tf.keras.layers.Conv2D(64, (4, 4), strides=(2, 2), padding='same', use_bias=False)\n",
    "        self.conv2 = tf.keras.layers.Conv2D(64 * 2, (4, 4), strides=(2, 2), padding='same', use_bias=False)\n",
    "        self.conv3 = tf.keras.layers.Conv2D(64 * 4, (4, 4), strides=(2, 2), padding='same', use_bias=False)\n",
    "\n",
    "        # Batch normalization\n",
    "        self.bn1 = tf.keras.layers.BatchNormalization()\n",
    "        self.bn2 = tf.keras.layers.BatchNormalization()\n",
    "        self.bn_text = tf.keras.layers.BatchNormalization()\n",
    "\n",
    "        # Flatten and dense layers\n",
    "        self.flatten = tf.keras.layers.Flatten()\n",
    "\n",
    "        # Dropout layer\n",
    "        self.dropout = tf.keras.layers.Dropout(0.5)\n",
    "\n",
    "        # Conditional processing\n",
    "        self.text_dense = tf.keras.layers.Dense(64 * 4)\n",
    "        self.final_dense = tf.keras.layers.Dense(1)\n",
    "    \n",
    "    def call(self, img, text, training=True):\n",
    "        # text = self.flatten(text)\n",
    "        # text = self.d_text(text)\n",
    "        # text = tf.nn.leaky_relu(text)\n",
    "        \n",
    "        # img = self.flatten(img)\n",
    "        # img = self.d_img(img)\n",
    "        # img = tf.nn.leaky_relu(img)\n",
    "        \n",
    "        # # concatenate image with paired text\n",
    "        # img_text = tf.concat([text, img], axis=1)\n",
    "        \n",
    "        # logits = self.d(img_text)\n",
    "        # output = tf.nn.sigmoid(logits)\n",
    "        \n",
    "        # Process image\n",
    "        x = self.conv1(img)\n",
    "        x = tf.nn.leaky_relu(x, alpha=0.2)\n",
    "\n",
    "        x = self.conv2(x)\n",
    "        x = self.bn1(x, training=training)\n",
    "        x = tf.nn.leaky_relu(x, alpha=0.2)\n",
    "\n",
    "        x = self.conv3(x)\n",
    "        x = self.bn2(x, training=training)\n",
    "        x = tf.nn.leaky_relu(x, alpha=0.2)\n",
    "\n",
    "        x = self.flatten(x)\n",
    "        # x = self.dropout(x, training=True)\n",
    "\n",
    "        # Process text condition\n",
    "        text_processed = self.text_dense(text)\n",
    "        text_processed = self.bn_text(text_processed, training=training)\n",
    "\n",
    "        # Concatenate image features and text\n",
    "        combined = tf.concat([x, text_processed], axis=1)\n",
    "        # combined = self.dropout(combined, training=True)\n",
    "\n",
    "        # Final classification\n",
    "        logits = self.final_dense(combined)\n",
    "        output = tf.nn.sigmoid(logits)\n",
    "        # output = logits\n",
    "\n",
    "        return logits"
   ]
  },
  {
   "cell_type": "code",
   "execution_count": 14,
   "metadata": {},
   "outputs": [],
   "source": [
    "@tf.function\n",
    "def image_aug(img):\n",
    "    img = tf.image.random_flip_left_right(img)\n",
    "    height, width = img.shape[1], img.shape[2]\n",
    "\n",
    "    # random tranlation\n",
    "    # dx = tf.random.uniform([], -5, 5, dtype=tf.int32)\n",
    "    # dy = tf.random.uniform([], -5, 5, dtype=tf.int32)\n",
    "    # img = tf.image.pad_to_bounding_box(\n",
    "    #     img, \n",
    "    #     offset_height=tf.maximum(0, dy), \n",
    "    #     offset_width=tf.maximum(0, dx), \n",
    "    #     target_height=height + tf.abs(dy), \n",
    "    #     target_width=width + tf.abs(dx)\n",
    "    # )\n",
    "    # img = tf.image.crop_to_bounding_box(\n",
    "    #     img, \n",
    "    #     offset_height=tf.maximum(0, -dy), \n",
    "    #     offset_width=tf.maximum(0, -dx), \n",
    "    #     target_height=height, \n",
    "    #     target_width=width\n",
    "    # )\n",
    "\n",
    "    # random crop\n",
    "    # crop_height = tf.random.uniform([], int(height * 0.8), height, dtype=tf.int32)\n",
    "    # crop_width = tf.random.uniform([], int(width * 0.8), width, dtype=tf.int32)\n",
    "    # img = tf.image.random_crop(img, size=[img.shape[0], crop_height, crop_width, img.shape[3]])\n",
    "    # img = tf.image.resize(img, [height, width])\n",
    "\n",
    "    # random zoom\n",
    "    # zoom_factor = tf.random.uniform([], 0.8, 1)\n",
    "    # new_height, new_width = tf.cast(height * zoom_factor, tf.int32), tf.cast(width * zoom_factor, tf.int32)\n",
    "    # img = tf.image.resize(img, [new_height, new_width])\n",
    "    # img = tf.image.resize(img, [height, width])\n",
    "\n",
    "    # saturation = tf.random.uniform([], 0.6, 1.4)\n",
    "    # img = tf.image.adjust_saturation(img, saturation)\n",
    "\n",
    "    # rotate\n",
    "    # angle = tf.random.uniform([], -30, 30)\n",
    "    # img = tfa.image.rotate(img, angle)\n",
    "\n",
    "    # add noise\n",
    "    # noise = tf.random.normal(shape=tf.shape(img), mean=0.0, stddev=0.05, dtype=tf.float32)\n",
    "    # img = img + noise\n",
    "\n",
    "    # img = img * 2.0 - 1\n",
    "    # img = tf.clip_by_value(img, -1, 1)\n",
    "    return img"
   ]
  },
  {
   "cell_type": "code",
   "execution_count": 15,
   "metadata": {},
   "outputs": [
    {
     "name": "stdout",
     "output_type": "stream",
     "text": [
      "tf.Tensor(1.0, shape=(), dtype=float32) tf.Tensor(0.0, shape=(), dtype=float32)\n",
      "tf.Tensor(1.0, shape=(), dtype=float32) tf.Tensor(0.0, shape=(), dtype=float32)\n",
      "(64, 64, 64, 3)\n"
     ]
    },
    {
     "data": {
      "image/png": "[encoded data removed]",
      "text/plain": [
       "<Figure size 640x480 with 1 Axes>"
      ]
     },
     "metadata": {},
     "output_type": "display_data"
    },
    {
     "data": {
      "image/png": "[encoded data removed]",
      "text/plain": [
       "<Figure size 640x480 with 1 Axes>"
      ]
     },
     "metadata": {},
     "output_type": "display_data"
    }
   ],
   "source": [
    "for img, caption in dataset.take(1):\n",
    "    new_img = image_aug(img)\n",
    "    print(tf.reduce_max(img), tf.reduce_min(img))\n",
    "    print(tf.reduce_max(new_img), tf.reduce_min(new_img))\n",
    "    print(new_img.shape)\n",
    "    plt.imshow(img[0].numpy())\n",
    "    plt.show()\n",
    "    plt.imshow(new_img[0].numpy())\n",
    "    plt.show()"
   ]
  },
  {
   "cell_type": "code",
   "execution_count": 16,
   "metadata": {},
   "outputs": [],
   "source": [
    "class WGAN(tf.keras.Model):\n",
    "    def __init__(self, discriminator, generator, latent_dim, discriminator_extra_steps=3, gp_weight=10.0):\n",
    "        super().__init__()\n",
    "        self.discriminator = discriminator\n",
    "        self.generator = generator\n",
    "        self.latent_dim = latent_dim\n",
    "        self.d_steps = discriminator_extra_steps\n",
    "        self.gp_weight = gp_weight\n",
    "\n",
    "    def compile(self, d_optimizer, g_optimizer, d_loss_fn, g_loss_fn):\n",
    "        super().compile()\n",
    "        self.d_optimizer = d_optimizer\n",
    "        self.g_optimizer = g_optimizer\n",
    "        self.d_loss_fn = d_loss_fn\n",
    "        self.g_loss_fn = g_loss_fn\n",
    "\n",
    "    def gradient_penalty(self, batch_size, real_images, fake_images, captions):\n",
    "        \"\"\"Calculates the gradient penalty.\n",
    "\n",
    "        This loss is calculated on an interpolated image\n",
    "        and added to the discriminator loss.\n",
    "        \"\"\"\n",
    "        # Get the interpolated image\n",
    "        alpha = tf.random.uniform([batch_size, 1, 1, 1], 0.0, 1.0)\n",
    "        diff = fake_images - real_images\n",
    "        interpolated = real_images + alpha * diff\n",
    "\n",
    "        with tf.GradientTape() as gp_tape:\n",
    "            gp_tape.watch(interpolated)\n",
    "            # 1. Get the discriminator output for this interpolated image.\n",
    "            pred = self.discriminator(interpolated, captions, training=True)\n",
    "\n",
    "        # 2. Calculate the gradients w.r.t to this interpolated image.\n",
    "        grads = gp_tape.gradient(pred, [interpolated])[0]\n",
    "        # 3. Calculate the norm of the gradients.\n",
    "        norm = tf.sqrt(tf.reduce_sum(tf.square(grads), axis=[1, 2, 3]))\n",
    "        gp = tf.reduce_mean((norm - 1.0) ** 2)\n",
    "        return gp\n",
    "\n",
    "    def train_step(self, data):\n",
    "        real_images, captions = data\n",
    "        # real_images = image_aug(real_images)\n",
    "        real_images = real_images * 2.0 - 1\n",
    "        real_images = tf.clip_by_value(real_images, -1, 1)\n",
    "        \n",
    "        if isinstance(real_images, tuple):\n",
    "            real_images = real_images[0]\n",
    "\n",
    "        # Get the batch size\n",
    "        batch_size = tf.shape(real_images)[0]\n",
    "\n",
    "        # For each batch, we are going to perform the\n",
    "        # following steps as laid out in the original paper:\n",
    "        # 1. Train the generator and get the generator loss\n",
    "        # 2. Train the discriminator and get the discriminator loss\n",
    "        # 3. Calculate the gradient penalty\n",
    "        # 4. Multiply this gradient penalty with a constant weight factor\n",
    "        # 5. Add the gradient penalty to the discriminator loss\n",
    "        # 6. Return the generator and discriminator losses as a loss dictionary\n",
    "\n",
    "        # Train the discriminator first. The original paper recommends training\n",
    "        # the discriminator for `x` more steps (typically 5) as compared to\n",
    "        # one step of the generator. Here we will train it for 3 extra steps\n",
    "        # as compared to 5 to reduce the training time.\n",
    "        for i in range(self.d_steps):\n",
    "            # Get the latent vector\n",
    "            random_latent_vectors = tf.random.normal(\n",
    "                shape=(batch_size, self.latent_dim)\n",
    "            )\n",
    "            with tf.GradientTape() as tape:\n",
    "                # Generate fake images from the latent vector\n",
    "                fake_images = self.generator(captions, random_latent_vectors, training=True)\n",
    "                # Get the logits for the fake images\n",
    "                fake_logits = self.discriminator(fake_images, captions, training=True)\n",
    "                # Get the logits for the real images\n",
    "                real_logits = self.discriminator(real_images, captions, training=True)\n",
    "\n",
    "                # Calculate the discriminator loss using the fake and real image logits\n",
    "                d_cost = self.d_loss_fn(real_img=real_logits, fake_img=fake_logits)\n",
    "                # Calculate the gradient penalty\n",
    "                gp = self.gradient_penalty(batch_size, real_images, fake_images, captions)\n",
    "                # Add the gradient penalty to the original discriminator loss\n",
    "                d_loss = d_cost + gp * self.gp_weight\n",
    "\n",
    "            # Get the gradients w.r.t the discriminator loss\n",
    "            d_gradient = tape.gradient(d_loss, self.discriminator.trainable_variables)\n",
    "            # Update the weights of the discriminator using the discriminator optimizer\n",
    "            self.d_optimizer.apply_gradients(\n",
    "                zip(d_gradient, self.discriminator.trainable_variables)\n",
    "            )\n",
    "\n",
    "        # Train the generator\n",
    "        # Get the latent vector\n",
    "        random_latent_vectors = tf.random.normal(shape=(batch_size, self.latent_dim))\n",
    "        with tf.GradientTape() as tape:\n",
    "            # Generate fake images using the generator\n",
    "            generated_images  = self.generator(captions, random_latent_vectors, training=True)\n",
    "            # Get the discriminator logits for fake images\n",
    "            gen_img_logits  = self.discriminator(generated_images, captions, training=True)\n",
    "            # Calculate the generator loss\n",
    "            g_loss = self.g_loss_fn(gen_img_logits)\n",
    "\n",
    "        # Get the gradients w.r.t the generator loss\n",
    "        gen_gradient = tape.gradient(g_loss, self.generator.trainable_variables)\n",
    "        # Update the weights of the generator using the generator optimizer\n",
    "        self.g_optimizer.apply_gradients(\n",
    "            zip(gen_gradient, self.generator.trainable_variables)\n",
    "        )\n",
    "        return {\"d_loss\": d_loss, \"g_loss\": g_loss}"
   ]
  },
  {
   "cell_type": "code",
   "execution_count": 17,
   "metadata": {},
   "outputs": [],
   "source": [
    "class GANMonitor(tf.keras.callbacks.Callback):\n",
    "    def __init__(self, num_img=6, latent_dim=128):\n",
    "        self.num_img = num_img\n",
    "        self.latent_dim = latent_dim\n",
    "\n",
    "    def on_epoch_end(self, epoch, logs=None):\n",
    "        random_latent_vectors = tf.random.normal(shape=(self.num_img, self.latent_dim))\n",
    "        generated_images = self.model.generator(test_use_caption, random_latent_vectors)\n",
    "        generated_images = (generated_images * 127.5) + 127.5\n",
    "\n",
    "        for i in range(self.num_img):\n",
    "            img = generated_images[i].numpy()\n",
    "            img = tf.keras.utils.array_to_img(img)\n",
    "            img.save(\"./samples/wgan-gp/generated_img_{i}_{epoch}.png\".format(i=i, epoch=epoch))\n"
   ]
  },
  {
   "cell_type": "code",
   "execution_count": 18,
   "metadata": {},
   "outputs": [],
   "source": [
    "hparas = {\n",
    "    'MAX_SEQ_LENGTH': 20,                     # maximum sequence length\n",
    "    'EMBED_DIM': 256,                         # word embedding dimension\n",
    "    'VOCAB_SIZE': len(word2Id_dict),          # size of dictionary of captions\n",
    "    'RNN_HIDDEN_SIZE': 512,                   # number of RNN neurons\n",
    "    'Z_DIM': 128,                             # random noise z dimension\n",
    "    'DENSE_DIM': 512,                         # number of neurons for text embedding\n",
    "    'IMAGE_SIZE': [64, 64, 3],                # render image size\n",
    "    'BATCH_SIZE': 64,\n",
    "    'LR': 1e-4,\n",
    "    'LR_DECAY': 0.5,\n",
    "    'BETA_1': 0.5,\n",
    "    'N_EPOCH': 1500,                            # number of epoch for demo\n",
    "    'N_SAMPLE': num_training_sample,          # size of training data\n",
    "    'CHECKPOINTS_DIR': './checkpoints/wgan',  # checkpoint path\n",
    "    'PRINT_FREQ': 100                           # printing frequency of loss\n",
    "}"
   ]
  },
  {
   "cell_type": "code",
   "execution_count": 19,
   "metadata": {},
   "outputs": [],
   "source": [
    "text_encoder = TextEncoder(hparas)\n",
    "generator = Generator(hparas)\n",
    "discriminator = Discriminator(hparas)\n"
   ]
  },
  {
   "cell_type": "code",
   "execution_count": 20,
   "metadata": {},
   "outputs": [],
   "source": [
    "# Instantiate the optimizer for both networks\n",
    "# (learning_rate=0.0002, beta_1=0.5 are recommended)\n",
    "generator_optimizer = tf.keras.optimizers.Adam(\n",
    "    learning_rate=0.0002, beta_1=0.5, beta_2=0.9\n",
    ")\n",
    "discriminator_optimizer = tf.keras.optimizers.Adam(\n",
    "    learning_rate=0.0002, beta_1=0.5, beta_2=0.9\n",
    ")\n",
    "\n",
    "\n",
    "# Define the loss functions for the discriminator,\n",
    "# which should be (fake_loss - real_loss).\n",
    "# We will add the gradient penalty later to this loss function.\n",
    "def discriminator_loss(real_img, fake_img):\n",
    "    real_loss = tf.reduce_mean(real_img)\n",
    "    fake_loss = tf.reduce_mean(fake_img)\n",
    "    return fake_loss - real_loss\n",
    "\n",
    "\n",
    "# Define the loss functions for the generator.\n",
    "def generator_loss(fake_img):\n",
    "    return -tf.reduce_mean(fake_img)\n",
    "\n",
    "\n",
    "# Set the number of epochs for training.\n",
    "epochs = hparas['N_EPOCH']\n",
    "\n",
    "# Instantiate the customer `GANMonitor` Keras callback.\n",
    "cbk = GANMonitor(num_img=3, latent_dim=hparas['Z_DIM'])\n",
    "\n",
    "# Get the wgan model\n",
    "wgan = WGAN(\n",
    "    discriminator=discriminator,\n",
    "    generator=generator,\n",
    "    latent_dim=hparas['Z_DIM'],\n",
    "    discriminator_extra_steps=5,\n",
    ")\n",
    "\n",
    "# Compile the wgan model\n",
    "wgan.compile(\n",
    "    d_optimizer=discriminator_optimizer,\n",
    "    g_optimizer=generator_optimizer,\n",
    "    g_loss_fn=generator_loss,\n",
    "    d_loss_fn=discriminator_loss,\n",
    ")\n"
   ]
  },
  {
   "cell_type": "code",
   "execution_count": 21,
   "metadata": {},
   "outputs": [
    {
     "data": {
      "text/plain": [
       "<tensorflow.python.training.tracking.util.CheckpointLoadStatus at 0x7b1b95a09820>"
      ]
     },
     "execution_count": 21,
     "metadata": {},
     "output_type": "execute_result"
    }
   ],
   "source": [
    "checkpoint_path = \"checkpoints/wgan-gp/tf_checkpoint\"\n",
    "checkpoint_callback = tf.keras.callbacks.ModelCheckpoint(\n",
    "    filepath=checkpoint_path,\n",
    "    save_weights_only=True,\n",
    "    # max_to_keep=1\n",
    ")\n",
    "wgan.load_weights(checkpoint_path)\n",
    "# Start training\n",
    "# wgan.fit(dataset, batch_size=BATCH_SIZE, epochs=epochs, callbacks=[cbk, checkpoint_callback])"
   ]
  },
  {
   "cell_type": "code",
   "execution_count": 22,
   "metadata": {},
   "outputs": [],
   "source": [
    "@tf.function\n",
    "def test_step(caption, noise):\n",
    "    fake_image = generator(caption, noise)\n",
    "    return fake_image"
   ]
  },
  {
   "cell_type": "markdown",
   "metadata": {},
   "source": [
    "## Evaluation\n",
    "If you change anything during preprocessing of training dataset, you must make sure same operations have be done in testing dataset."
   ]
  },
  {
   "cell_type": "code",
   "execution_count": 31,
   "metadata": {},
   "outputs": [],
   "source": [
    "def testing_data_generator(caption, index):\n",
    "    caption = tf.convert_to_tensor(caption, dtype=tf.float32)\n",
    "    # caption = tf.cast(caption, tf.float32)\n",
    "    return caption, index\n",
    "\n",
    "def testing_dataset_generator(batch_size, data_generator):\n",
    "    data = pd.read_pickle('./clip_test_text_features.pkl')\n",
    "    # captions = data.values\n",
    "    # print(list(data.iloc[0]))\n",
    "    caption = []\n",
    "    index = []\n",
    "    for i in range(len(data)):\n",
    "        # caption.append(captions[i])\n",
    "        c = data.iloc[i]['Captions']\n",
    "        t = data.iloc[i]['ID']\n",
    "\n",
    "        caption.append(c)\n",
    "        index.append(t)\n",
    "    # caption = np.asarray(caption)\n",
    "    # caption = caption.astype(np.int)\n",
    "    # index = data['ID'].values\n",
    "    # index = np.asarray(index)\n",
    "    \n",
    "    dataset = tf.data.Dataset.from_tensor_slices((caption, index))\n",
    "    dataset = dataset.map(data_generator, num_parallel_calls=tf.data.experimental.AUTOTUNE)\n",
    "    dataset = dataset.repeat().batch(batch_size)\n",
    "    \n",
    "    return dataset"
   ]
  },
  {
   "cell_type": "code",
   "execution_count": 37,
   "metadata": {},
   "outputs": [
    {
     "name": "stdout",
     "output_type": "stream",
     "text": [
      "tf.Tensor(\n",
      "[[-0.19348145 -0.14331055  0.38208008 ...  0.35058594  0.25610352\n",
      "  -0.21472168]\n",
      " [-0.31982422  0.17797852  0.40551758 ...  0.20910645  0.2722168\n",
      "   0.15356445]\n",
      " [-0.32055664  0.14099121  0.2253418  ...  0.09710693  0.19714355\n",
      "  -0.26245117]\n",
      " ...\n",
      " [-0.14501953  0.09405518  0.04077148 ...  0.1817627   0.07006836\n",
      "  -0.10003662]\n",
      " [-0.07312012  0.13769531  0.38793945 ...  0.2680664  -0.0139389\n",
      "  -0.18151855]\n",
      " [-0.10913086  0.13208008  0.03025818 ...  0.10308838  0.29125977\n",
      "  -0.08166504]], shape=(39, 512), dtype=float32)\n",
      "tf.Tensor(\n",
      "[6735 6740 6746 6759 6762 6765 5107 5108 5133 6623 6647 5655 5666 5682\n",
      " 5147 5148 5175 5177 5181 5184 5187 5190 5198 7175 7184 7190 7192 7203\n",
      " 7208 7219 7222 7225 7227 8101 3284 3296 3322 3323 3327], shape=(39,), dtype=int32)\n",
      "tf.Tensor(\n",
      "[[-0.1315918   0.3713379   0.29296875 ...  0.28979492 -0.04519653\n",
      "  -0.20629883]\n",
      " [-0.09399414  0.0094223  -0.04754639 ...  0.14575195  0.2565918\n",
      "  -0.09466553]\n",
      " [-0.12139893  0.1940918   0.2788086  ... -0.22583008  0.390625\n",
      "   0.22277832]\n",
      " ...\n",
      " [-0.4260254   0.10406494  0.25390625 ... -0.04177856  0.3881836\n",
      "   0.17089844]\n",
      " [-0.19714355 -0.00961304  0.26391602 ...  0.07043457  0.2536621\n",
      "   0.20251465]\n",
      " [-0.23913574  0.07775879  0.30249023 ...  0.1439209   0.24414062\n",
      "   0.14160156]], shape=(39, 512), dtype=float32)\n",
      "tf.Tensor(\n",
      "[3336 3353 6406 6409 6410 6413 6415 6416 6434 8090 8094 3097 3145 3181\n",
      " 3998 4004 4019 4053 5759 5780 5785 6053 6054 6068 6079 6090 6349 6351\n",
      " 6359 6362 6381 6662 6670 6676 6679 6686 3836 3837 3842], shape=(39,), dtype=int32)\n"
     ]
    }
   ],
   "source": [
    "hparas['BATCH_SIZE'] = 39\n",
    "testing_dataset = testing_dataset_generator(hparas['BATCH_SIZE'], testing_data_generator)\n",
    "for caption, index in testing_dataset.take(2):\n",
    "    print(caption)\n",
    "    print(index)"
   ]
  },
  {
   "cell_type": "code",
   "execution_count": 38,
   "metadata": {},
   "outputs": [
    {
     "name": "stdout",
     "output_type": "stream",
     "text": [
      "819\n"
     ]
    }
   ],
   "source": [
    "data = pd.read_pickle('./dataset/testData.pkl')\n",
    "captions = data['Captions'].values\n",
    "\n",
    "NUM_TEST = len(captions)\n",
    "print(NUM_TEST)\n",
    "EPOCH_TEST = int(NUM_TEST / hparas['BATCH_SIZE'])"
   ]
  },
  {
   "cell_type": "markdown",
   "metadata": {},
   "source": [
    "## Inference"
   ]
  },
  {
   "cell_type": "code",
   "execution_count": 39,
   "metadata": {},
   "outputs": [],
   "source": [
    "if not os.path.exists('./inference/demo'):\n",
    "    os.makedirs('./inference/demo')"
   ]
  },
  {
   "cell_type": "code",
   "execution_count": 40,
   "metadata": {},
   "outputs": [],
   "source": [
    "def inference(dataset):\n",
    "    sample_size = hparas['BATCH_SIZE']\n",
    "    sample_seed = np.random.normal(loc=0.0, scale=1.0, size=(sample_size, hparas['Z_DIM'])).astype(np.float32)\n",
    "    \n",
    "    step = 0\n",
    "    start = time.time()\n",
    "    for captions, idx in dataset:\n",
    "        if step > EPOCH_TEST:\n",
    "            break\n",
    "        \n",
    "        fake_image = test_step(captions, sample_seed)\n",
    "        step += 1\n",
    "        for i in range(hparas['BATCH_SIZE']):\n",
    "            plt.imsave('./inference/demo/inference_{:04d}.jpg'.format(idx[i]), fake_image[i].numpy()*0.5 + 0.5)\n",
    "            \n",
    "    print('Time for inference is {:.4f} sec'.format(time.time()-start))"
   ]
  },
  {
   "cell_type": "code",
   "execution_count": 41,
   "metadata": {},
   "outputs": [
    {
     "name": "stdout",
     "output_type": "stream",
     "text": [
      "Time for inference is 2.0062 sec\n"
     ]
    }
   ],
   "source": [
    "inference(testing_dataset)"
   ]
  },
  {
   "cell_type": "markdown",
   "metadata": {},
   "source": [
    "## Inception Score & Cosine Similarity\n",
    "- Similarity of images and the given contents. How similar are the generated images and the given texts?\n",
    "- KL divergence of generated images. Are the generated images very diverse?\n",
    "\n",
    "### Run evaluation script\n",
    "\n",
    "1. Open terminal and move to the folder containing inception_score.py. Otherwise you have to modify the path used in the file.\n",
    "2. Run python ./inception_score.py [argv1] [argv2] [argv3]\n",
    "    - argv1: directory of generated image (inference).\n",
    "    - argv2: directory of output file and its name.\n",
    "    - argv3: batch size. Please set batch size to 1, 2, 3, 7, 9, 21, 39 to avoid remainder.\n",
    "\n",
    "For exmaple, run following comment \n",
    "`python inception_score.py ../inference/demo ../score_demo.csv 39`\n",
    "\n",
    "It is better for you to know that evaluation needs to run on GPUs, please make sure the GPU resource is available."
   ]
  }
 ],
 "metadata": {
  "kernelspec": {
   "display_name": "Python 3",
   "language": "python",
   "name": "python3"
  },
  "language_info": {
   "codemirror_mode": {
    "name": "ipython",
    "version": 3
   },
   "file_extension": ".py",
   "mimetype": "text/x-python",
   "name": "python",
   "nbconvert_exporter": "python",
   "pygments_lexer": "ipython3",
   "version": "3.8.10"
  }
 },
 "nbformat": 4,
 "nbformat_minor": 2
}
